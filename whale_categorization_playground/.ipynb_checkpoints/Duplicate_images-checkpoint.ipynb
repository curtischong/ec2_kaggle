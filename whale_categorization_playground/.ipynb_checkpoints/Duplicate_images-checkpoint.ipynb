{
 "cells": [
  {
   "cell_type": "markdown",
   "metadata": {
    "_uuid": "517ada60f8124bda311d73152c20cce7e58f87bb"
   },
   "source": [
    "**While exploring the data I recognized that there are many duplicate images in the training set. \n",
    "I used the function phash from the package imagehash to detect them.\n",
    "The following code plots some examples.\n",
    "**"
   ]
  },
  {
   "cell_type": "code",
   "execution_count": 1,
   "metadata": {
    "_cell_guid": "b1076dfc-b9ad-4769-8c92-a6c4dae69d19",
    "_uuid": "8f2839f25d086af736a60e9eeb907d3b93b6e0e5"
   },
   "outputs": [
    {
     "ename": "ImportError",
     "evalue": "No module named 'PIL'",
     "output_type": "error",
     "traceback": [
      "\u001b[0;31m---------------------------------------------------------------------------\u001b[0m",
      "\u001b[0;31mImportError\u001b[0m                               Traceback (most recent call last)",
      "\u001b[0;32m<ipython-input-1-19a454113e7f>\u001b[0m in \u001b[0;36m<module>\u001b[0;34m()\u001b[0m\n\u001b[1;32m      6\u001b[0m \u001b[0;32mimport\u001b[0m \u001b[0mpandas\u001b[0m \u001b[0;32mas\u001b[0m \u001b[0mpd\u001b[0m \u001b[0;31m# data processing, CSV file I/O (e.g. pd.read_csv)\u001b[0m\u001b[0;34m\u001b[0m\u001b[0m\n\u001b[1;32m      7\u001b[0m \u001b[0;32mimport\u001b[0m \u001b[0mmatplotlib\u001b[0m\u001b[0;34m.\u001b[0m\u001b[0mpyplot\u001b[0m \u001b[0;32mas\u001b[0m \u001b[0mplt\u001b[0m\u001b[0;34m\u001b[0m\u001b[0m\n\u001b[0;32m----> 8\u001b[0;31m \u001b[0;32mfrom\u001b[0m \u001b[0mPIL\u001b[0m \u001b[0;32mimport\u001b[0m \u001b[0mImage\u001b[0m\u001b[0;34m\u001b[0m\u001b[0m\n\u001b[0m\u001b[1;32m      9\u001b[0m \u001b[0;32mimport\u001b[0m \u001b[0mimagehash\u001b[0m\u001b[0;34m\u001b[0m\u001b[0m\n\u001b[1;32m     10\u001b[0m \u001b[0;34m\u001b[0m\u001b[0m\n",
      "\u001b[0;31mImportError\u001b[0m: No module named 'PIL'"
     ]
    }
   ],
   "source": [
    "# This Python 3 environment comes with many helpful analytics libraries installed\n",
    "# It is defined by the kaggle/python docker image: https://github.com/kaggle/docker-python\n",
    "# For example, here's several helpful packages to load in \n",
    "\n",
    "import numpy as np # linear algebra\n",
    "import pandas as pd # data processing, CSV file I/O (e.g. pd.read_csv)\n",
    "import matplotlib.pyplot as plt\n",
    "from PIL import Image\n",
    "import imagehash\n",
    "\n",
    "# Input data files are available in the \"../input/\" directory.\n",
    "# For example, running this (by clicking run or pressing Shift+Enter) will list the files in the input directory\n",
    "\n",
    "import os\n",
    "print(os.listdir(\"../input\"))\n",
    "\n",
    "TRAIN_IMG_PATH = r\"../input/train\"\n",
    "\n",
    "def getImageMetaData(file_path):\n",
    "    with Image.open(file_path) as img:\n",
    "        img_hash = imagehash.phash(img)\n",
    "        return img.size, img.mode, img_hash\n",
    "\n",
    "def get_train_input():\n",
    "    train_input = pd.read_csv(r\"../input/train.csv\")\n",
    "    \n",
    "    m = train_input.Image.apply(lambda x: getImageMetaData(TRAIN_IMG_PATH + \"/\" + x))\n",
    "    train_input[\"Hash\"] = [str(i[2]) for i in m]\n",
    "    train_input[\"Shape\"] = [i[0] for i in m]\n",
    "    train_input[\"Mode\"] = [str(i[1]) for i in m]\n",
    "    train_input[\"Length\"] = train_input[\"Shape\"].apply(lambda x: x[0]*x[1])\n",
    "    train_input[\"Ratio\"] = train_input[\"Shape\"].apply(lambda x: x[0]/x[1])\n",
    "    train_input[\"New_Whale\"] = train_input.Id == \"new_whale\"\n",
    "    \n",
    "    \n",
    "    img_counts = train_input.Id.value_counts().to_dict()\n",
    "    train_input[\"Id_Count\"] = train_input.Id.apply(lambda x: img_counts[x])\n",
    "    return train_input\n",
    "\n",
    "train_input = get_train_input()\n"
   ]
  },
  {
   "cell_type": "code",
   "execution_count": null,
   "metadata": {
    "_uuid": "936f9d04f64e7355a87934b973e7021b3fd7a3d9",
    "collapsed": true
   },
   "outputs": [],
   "source": [
    "t = train_input.Hash.value_counts()\n",
    "t = t.loc[t>1]\n",
    "print(\"There are {} duplicate images.\".format(np.sum(t)-len(t)))\n",
    "t.head(20)"
   ]
  },
  {
   "cell_type": "code",
   "execution_count": 2,
   "metadata": {
    "_cell_guid": "79c7e3d0-c299-4dcb-8224-4455121ee9b0",
    "_uuid": "d629ff2d2480ee46fbb7e2d37f6b5fab8052498a"
   },
   "outputs": [
    {
     "name": "stdout",
     "output_type": "stream",
     "text": [
      "Some examples:\n"
     ]
    },
    {
     "ename": "NameError",
     "evalue": "name 'TRAIN_IMG_PATH' is not defined",
     "output_type": "error",
     "traceback": [
      "\u001b[0;31m---------------------------------------------------------------------------\u001b[0m",
      "\u001b[0;31mNameError\u001b[0m                                 Traceback (most recent call last)",
      "\u001b[0;32m<ipython-input-2-53da2022e9be>\u001b[0m in \u001b[0;36m<module>\u001b[0;34m()\u001b[0m\n\u001b[1;32m     18\u001b[0m \u001b[0;34m\u001b[0m\u001b[0m\n\u001b[1;32m     19\u001b[0m \u001b[0mprint\u001b[0m\u001b[0;34m(\u001b[0m\u001b[0;34m\"Some examples:\"\u001b[0m\u001b[0;34m)\u001b[0m\u001b[0;34m\u001b[0m\u001b[0m\n\u001b[0;32m---> 20\u001b[0;31m \u001b[0mplot_images\u001b[0m\u001b[0;34m(\u001b[0m\u001b[0mTRAIN_IMG_PATH\u001b[0m\u001b[0;34m,\u001b[0m \u001b[0mtrain_input\u001b[0m\u001b[0;34m[\u001b[0m\u001b[0mtrain_input\u001b[0m\u001b[0;34m.\u001b[0m\u001b[0mHash\u001b[0m\u001b[0;34m==\u001b[0m\u001b[0mt\u001b[0m\u001b[0;34m.\u001b[0m\u001b[0mindex\u001b[0m\u001b[0;34m[\u001b[0m\u001b[0;36m0\u001b[0m\u001b[0;34m]\u001b[0m\u001b[0;34m]\u001b[0m\u001b[0;34m.\u001b[0m\u001b[0mImage\u001b[0m\u001b[0;34m)\u001b[0m\u001b[0;34m\u001b[0m\u001b[0m\n\u001b[0m\u001b[1;32m     21\u001b[0m \u001b[0mplot_images\u001b[0m\u001b[0;34m(\u001b[0m\u001b[0mTRAIN_IMG_PATH\u001b[0m\u001b[0;34m,\u001b[0m \u001b[0mtrain_input\u001b[0m\u001b[0;34m[\u001b[0m\u001b[0mtrain_input\u001b[0m\u001b[0;34m.\u001b[0m\u001b[0mHash\u001b[0m\u001b[0;34m==\u001b[0m\u001b[0mt\u001b[0m\u001b[0;34m.\u001b[0m\u001b[0mindex\u001b[0m\u001b[0;34m[\u001b[0m\u001b[0;36m3\u001b[0m\u001b[0;34m]\u001b[0m\u001b[0;34m]\u001b[0m\u001b[0;34m.\u001b[0m\u001b[0mImage\u001b[0m\u001b[0;34m)\u001b[0m\u001b[0;34m\u001b[0m\u001b[0m\n\u001b[1;32m     22\u001b[0m \u001b[0mplot_images\u001b[0m\u001b[0;34m(\u001b[0m\u001b[0mTRAIN_IMG_PATH\u001b[0m\u001b[0;34m,\u001b[0m \u001b[0mtrain_input\u001b[0m\u001b[0;34m[\u001b[0m\u001b[0mtrain_input\u001b[0m\u001b[0;34m.\u001b[0m\u001b[0mHash\u001b[0m\u001b[0;34m==\u001b[0m\u001b[0mt\u001b[0m\u001b[0;34m.\u001b[0m\u001b[0mindex\u001b[0m\u001b[0;34m[\u001b[0m\u001b[0;36m8\u001b[0m\u001b[0;34m]\u001b[0m\u001b[0;34m]\u001b[0m\u001b[0;34m.\u001b[0m\u001b[0mImage\u001b[0m\u001b[0;34m)\u001b[0m\u001b[0;34m\u001b[0m\u001b[0m\n",
      "\u001b[0;31mNameError\u001b[0m: name 'TRAIN_IMG_PATH' is not defined"
     ]
    }
   ],
   "source": [
    "import collections\n",
    "\n",
    "def plot_images(path, imgs):\n",
    "    assert(isinstance(imgs, collections.Iterable))\n",
    "    imgs_list = list(imgs)\n",
    "    nrows = len(imgs_list)\n",
    "    if (nrows % 2 != 0):\n",
    "        nrows = nrows + 1 \n",
    "\n",
    "    plt.figure(figsize=(18, 6*nrows/2))\n",
    "    for i, img_file in enumerate(imgs_list):\n",
    "        with Image.open(path + \"/\" + img_file) as img:\n",
    "            ax = plt.subplot(nrows/2, 2, i+1)\n",
    "            ax.set_title(\"#{}: '{}'\".format(i+1, img_file))\n",
    "            ax.imshow(img)\n",
    "        \n",
    "    plt.show()\n",
    "\n",
    "print(\"Some examples:\")\n",
    "plot_images(TRAIN_IMG_PATH, train_input[train_input.Hash==t.index[0]].Image)\n",
    "plot_images(TRAIN_IMG_PATH, train_input[train_input.Hash==t.index[3]].Image)\n",
    "plot_images(TRAIN_IMG_PATH, train_input[train_input.Hash==t.index[8]].Image)\n",
    "plot_images(TRAIN_IMG_PATH, train_input[train_input.Hash==t.index[77]].Image)\n",
    "plot_images(TRAIN_IMG_PATH, train_input[train_input.Hash==t.index[431]].Image)\n",
    "plot_images(TRAIN_IMG_PATH, train_input[train_input.Hash==t.index[522]].Image)\n"
   ]
  },
  {
   "cell_type": "code",
   "execution_count": null,
   "metadata": {
    "_uuid": "d9a1219878a7df85c612a0ecc1eff447f2998ac4",
    "collapsed": true
   },
   "outputs": [],
   "source": []
  },
  {
   "cell_type": "code",
   "execution_count": null,
   "metadata": {
    "collapsed": true
   },
   "outputs": [],
   "source": []
  },
  {
   "cell_type": "code",
   "execution_count": null,
   "metadata": {
    "collapsed": true
   },
   "outputs": [],
   "source": []
  }
 ],
 "metadata": {
  "kernelspec": {
   "display_name": "Python 3",
   "language": "python",
   "name": "python3"
  }
 },
 "nbformat": 4,
 "nbformat_minor": 1
}
