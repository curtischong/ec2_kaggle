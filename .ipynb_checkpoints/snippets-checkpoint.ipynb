{
 "cells": [
  {
   "cell_type": "code",
   "execution_count": null,
   "metadata": {},
   "outputs": [],
   "source": [
    "#turns train[\"author\"] --- [\"EUP\",\"AUT\",\"HGJ\"...\"HYG\",\"AUT\",\"EUP\"] into one hot encoded\n",
    "encoder = LabelBinarizer()\n",
    "encoder.fit(train_words)\n",
    "y_train = encoder.transform(train_target)\n",
    "y_test = encoder.transform(test_target)\n",
    "y_test\n",
    "#[[0, 0, 0, ..., 0, 0, 0],\n",
    "# [0, 0, 1, ..., 0, 0, 0],\n",
    "# [0, 0, 0, ..., 0, 0, 0]]"
   ]
  }
 ],
 "metadata": {
  "kernelspec": {
   "display_name": "Python [conda env:tensorflow]",
   "language": "python",
   "name": "conda-env-tensorflow-py"
  },
  "language_info": {
   "codemirror_mode": {
    "name": "ipython",
    "version": 3
   },
   "file_extension": ".py",
   "mimetype": "text/x-python",
   "name": "python",
   "nbconvert_exporter": "python",
   "pygments_lexer": "ipython3",
   "version": "3.6.6"
  }
 },
 "nbformat": 4,
 "nbformat_minor": 2
}
